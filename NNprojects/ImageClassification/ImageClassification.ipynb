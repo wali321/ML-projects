{
 "cells": [
  {
   "cell_type": "markdown",
   "id": "14c3e441-3939-43a6-8ecb-f6fc2af2d288",
   "metadata": {},
   "source": [
    "# Import the code"
   ]
  },
  {
   "cell_type": "code",
   "execution_count": 1,
   "id": "d81d6659-67ce-44dc-8f17-6f705d97076c",
   "metadata": {},
   "outputs": [],
   "source": [
    "import numpy as np\n",
    "import matplotlib.pyplot as plt\n",
    "from tensorflow.keras.datasets import mnist\n",
    "from tensorflow.keras.models import Sequential\n",
    "from tensorflow.keras.layers import Dense, Flatten\n",
    "from tensorflow.keras.utils import to_categorical"
   ]
  },
  {
   "cell_type": "markdown",
   "id": "3d1df1ec-588c-40e1-8fc0-10aeb66d286f",
   "metadata": {},
   "source": [
    " # Load the Dataset"
   ]
  },
  {
   "cell_type": "code",
   "execution_count": 2,
   "id": "bdd4463e-79e1-4ed4-9d9b-88d02ed1357b",
   "metadata": {},
   "outputs": [],
   "source": [
    "(x_train, y_train), (x_test, y_test) = mnist.load_data()\n"
   ]
  },
  {
   "cell_type": "markdown",
   "id": "6b83ef78-6c4d-43fc-b5c0-7c3342a4e303",
   "metadata": {},
   "source": [
    "#  Visualize the Data"
   ]
  },
  {
   "cell_type": "code",
   "execution_count": 3,
   "id": "25a7fb94-7607-4bff-b275-381503ee1722",
   "metadata": {},
   "outputs": [
    {
     "data": {
      "image/png": "[encoded data removed]",
      "text/plain": [
       "<Figure size 640x480 with 1 Axes>"
      ]
     },
     "metadata": {},
     "output_type": "display_data"
    }
   ],
   "source": [
    "plt.imshow(x_train[0], cmap='gray')\n",
    "plt.title(f\"Label: {y_train[0]}\")\n",
    "plt.show()"
   ]
  },
  {
   "cell_type": "markdown",
   "id": "afd7eea9-ae1a-4038-8f5a-c2c1e7a175e9",
   "metadata": {},
   "source": [
    "# Normalize the Data"
   ]
  },
  {
   "cell_type": "code",
   "execution_count": 9,
   "id": "c8ca336b-77a9-499c-aad5-1c07b00faa2c",
   "metadata": {},
   "outputs": [],
   "source": [
    "x_train = x_train / 255.0\n",
    "x_test = x_test / 255.0\n"
   ]
  },
  {
   "cell_type": "markdown",
   "id": "69f39b3f-082c-4227-a284-f9d2c6224fe9",
   "metadata": {},
   "source": [
    "# One-Hot Encode the Labels"
   ]
  },
  {
   "cell_type": "code",
   "execution_count": 5,
   "id": "fff32c51-29b3-47e8-99b4-15a4c601ac24",
   "metadata": {},
   "outputs": [],
   "source": [
    "y_train = to_categorical(y_train)\n",
    "y_test = to_categorical(y_test)"
   ]
  },
  {
   "cell_type": "markdown",
   "id": "06626753-c10f-4cbf-a8f4-b011296cdd21",
   "metadata": {},
   "source": [
    "# Build the Model"
   ]
  },
  {
   "cell_type": "code",
   "execution_count": 7,
   "id": "11ea75b5-d725-4d0d-8a57-2fa56c8bbdbe",
   "metadata": {},
   "outputs": [
    {
     "name": "stderr",
     "output_type": "stream",
     "text": [
      "C:\\Users\\DELL\\AppData\\Local\\Programs\\Python\\Python312\\Lib\\site-packages\\keras\\src\\layers\\reshaping\\flatten.py:37: UserWarning: Do not pass an `input_shape`/`input_dim` argument to a layer. When using Sequential models, prefer using an `Input(shape)` object as the first layer in the model instead.\n",
      "  super().__init__(**kwargs)\n"
     ]
    }
   ],
   "source": [
    "model = Sequential([\n",
    "    Flatten(input_shape=(28, 28)),       # Convert 28x28 into 784\n",
    "    Dense(128, activation='relu'),       # Hidden layer\n",
    "    Dense(10, activation='softmax')      # Output layer (10 classes)\n",
    "])"
   ]
  },
  {
   "cell_type": "markdown",
   "id": "4aee1135-fdd9-429a-ae7c-8540e0e95a0c",
   "metadata": {},
   "source": [
    "# Compile the Model"
   ]
  },
  {
   "cell_type": "code",
   "execution_count": 10,
   "id": "98da30bd-e048-4463-a775-149cec58b1ca",
   "metadata": {},
   "outputs": [],
   "source": [
    "model.compile(optimizer='adam',\n",
    "              loss='categorical_crossentropy',\n",
    "              metrics=['accuracy'])\n"
   ]
  },
  {
   "cell_type": "markdown",
   "id": "bac13326-4791-4a58-bef4-fd2fd0e17dee",
   "metadata": {},
   "source": [
    "# Evaluate the Model"
   ]
  },
  {
   "cell_type": "code",
   "execution_count": 11,
   "id": "d59b73f1-c4fa-46b2-b27f-fb0534da748e",
   "metadata": {},
   "outputs": [
    {
     "name": "stdout",
     "output_type": "stream",
     "text": [
      "\u001b[1m313/313\u001b[0m \u001b[32m━━━━━━━━━━━━━━━━━━━━\u001b[0m\u001b[37m\u001b[0m \u001b[1m5s\u001b[0m 9ms/step - accuracy: 0.1605 - loss: 2.3025 \n",
      "Test Accuracy: 0.16369999945163727\n"
     ]
    }
   ],
   "source": [
    "test_loss, test_acc = model.evaluate(x_test, y_test)\n",
    "print(\"Test Accuracy:\", test_acc)\n"
   ]
  },
  {
   "cell_type": "markdown",
   "id": "dbe5c8ef-bcb4-4c7f-98d5-90d9d6586cc1",
   "metadata": {},
   "source": [
    "# Predict"
   ]
  },
  {
   "cell_type": "code",
   "execution_count": null,
   "id": "4691d61e-f52e-45e5-bb0b-f6e7ed92046e",
   "metadata": {},
   "outputs": [
    {
     "name": "stdout",
     "output_type": "stream",
     "text": [
      "\u001b[1m313/313\u001b[0m \u001b[32m━━━━━━━━━━━━━━━━━━━━\u001b[0m\u001b[37m\u001b[0m \u001b[1m1s\u001b[0m 5ms/step  \n"
     ]
    }
   ],
   "source": [
    "predictions = model.predict(x_test)\n",
    "\n",
    "# Show prediction for first test image\n",
    "plt.imshow(x_test[2], cmap='gray')\n",
    "plt.title(f\"Predicted: {np.argmax(predictions[2])}\")\n",
    "plt.show()\n"
   ]
  },
  {
   "cell_type": "code",
   "execution_count": null,
   "id": "72cde007-c88e-47d3-8437-11ed60b1d6b1",
   "metadata": {},
   "outputs": [],
   "source": []
  }
 ],
 "metadata": {
  "kernelspec": {
   "display_name": "Python 3 (ipykernel)",
   "language": "python",
   "name": "python3"
  },
  "language_info": {
   "codemirror_mode": {
    "name": "ipython",
    "version": 3
   },
   "file_extension": ".py",
   "mimetype": "text/x-python",
   "name": "python",
   "nbconvert_exporter": "python",
   "pygments_lexer": "ipython3",
   "version": "3.12.3"
  }
 },
 "nbformat": 4,
 "nbformat_minor": 5
}
