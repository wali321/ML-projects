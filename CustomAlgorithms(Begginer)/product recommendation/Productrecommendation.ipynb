{
 "cells": [
  {
   "cell_type": "code",
   "execution_count": 3,
   "id": "c027dca6-0dc5-4f3a-8af4-32b2c60df2ea",
   "metadata": {},
   "outputs": [],
   "source": [
    "import json"
   ]
  },
  {
   "cell_type": "code",
   "execution_count": 4,
   "id": "5d6fed12-1033-40a2-af2e-9c16ea0ee2e1",
   "metadata": {},
   "outputs": [],
   "source": [
    "def load_data(data):\n",
    "    with open(data,'r') as f:\n",
    "        return json.load(f)"
   ]
  },
  {
   "cell_type": "code",
   "execution_count": 5,
   "id": "00a5aa31-b8b0-48b5-8e0f-c4d4c1f23417",
   "metadata": {},
   "outputs": [],
   "source": [
    "data =load_data(\"testdata.json\")"
   ]
  },
  {
   "cell_type": "code",
   "execution_count": 6,
   "id": "02f338c6-171b-4512-957a-a2aedd99ff7f",
   "metadata": {},
   "outputs": [
    {
     "data": {
      "text/plain": [
       "{'users': [{'id': 1, 'purchased': ['Laptop', 'Mouse', 'Keyboard']},\n",
       "  {'id': 2, 'purchased': ['Mouse', 'Keyboard', 'Webcam']},\n",
       "  {'id': 3, 'purchased': ['Laptop', 'Headphones', 'Webcam']},\n",
       "  {'id': 4, 'purchased': ['Monitor', 'Mouse', 'Speakers']},\n",
       "  {'id': 5, 'purchased': ['Laptop', 'Monitor', 'Keyboard']}]}"
      ]
     },
     "execution_count": 6,
     "metadata": {},
     "output_type": "execute_result"
    }
   ],
   "source": [
    "data"
   ]
  },
  {
   "cell_type": "code",
   "execution_count": 11,
   "id": "dc86a33f-3186-416e-9f8a-bc09168a704a",
   "metadata": {},
   "outputs": [],
   "source": [
    "def recommend_product(userid, data):\n",
    "    user_products = {}\n",
    "    \n",
    "    # Build a dictionary of users and their purchased products\n",
    "    for user in data['users']:\n",
    "        user_products[user['id']] = set(user['purchased'])\n",
    "\n",
    "    # Check if the target user exists\n",
    "    if userid not in user_products:\n",
    "        return []\n",
    "\n",
    "    recommendations = set()\n",
    "    target_purchases = user_products[userid]\n",
    "\n",
    "    # Compare the target user's purchases with other users\n",
    "    for other_user, products in user_products.items():\n",
    "        if other_user == userid:\n",
    "            continue\n",
    "        # Recommend products that other users bought but the target user didn't\n",
    "        similar_products = products - target_purchases\n",
    "        if target_purchases & products:  # if they have some products in common\n",
    "            recommendations.update(similar_products)\n",
    "\n",
    "    return list(recommendations)\n"
   ]
  },
  {
   "cell_type": "code",
   "execution_count": 13,
   "id": "8b695e25-6d96-472a-8b5a-62662f606784",
   "metadata": {},
   "outputs": [
    {
     "data": {
      "text/plain": [
       "['Headphones', 'Webcam', 'Speakers', 'Monitor']"
      ]
     },
     "execution_count": 13,
     "metadata": {},
     "output_type": "execute_result"
    }
   ],
   "source": [
    "recommend_product(1,data)"
   ]
  },
  {
   "cell_type": "code",
   "execution_count": null,
   "id": "6ef74879-8329-47cb-bfb3-dc22a09d672a",
   "metadata": {},
   "outputs": [],
   "source": []
  },
  {
   "cell_type": "code",
   "execution_count": null,
   "id": "5af9f841-07c7-45c7-94b9-d4cd94f0f98b",
   "metadata": {},
   "outputs": [],
   "source": []
  }
 ],
 "metadata": {
  "kernelspec": {
   "display_name": "Python 3 (ipykernel)",
   "language": "python",
   "name": "python3"
  },
  "language_info": {
   "codemirror_mode": {
    "name": "ipython",
    "version": 3
   },
   "file_extension": ".py",
   "mimetype": "text/x-python",
   "name": "python",
   "nbconvert_exporter": "python",
   "pygments_lexer": "ipython3",
   "version": "3.12.3"
  }
 },
 "nbformat": 4,
 "nbformat_minor": 5
}
