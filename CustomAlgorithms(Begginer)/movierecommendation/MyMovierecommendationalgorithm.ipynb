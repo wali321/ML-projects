{
 "cells": [
  {
   "cell_type": "code",
   "execution_count": 1,
   "id": "f8695102-0b5e-4e5c-bf34-b57dd7ba0892",
   "metadata": {},
   "outputs": [],
   "source": [
    "import json"
   ]
  },
  {
   "cell_type": "code",
   "execution_count": 2,
   "id": "baee4e28-13de-4681-92fb-a1d08a59f7c2",
   "metadata": {},
   "outputs": [],
   "source": [
    "def load_data(data):\n",
    "    with open(data,'r') as f:\n",
    "        return json.load(f)\n",
    "        "
   ]
  },
  {
   "cell_type": "code",
   "execution_count": 78,
   "id": "3f75f777-4d00-4340-8981-abfc036ed99f",
   "metadata": {},
   "outputs": [],
   "source": [
    "data = load_data(\"testdata.json\")"
   ]
  },
  {
   "cell_type": "code",
   "execution_count": 79,
   "id": "5669a5d0-8030-4535-b5d8-d71569cf2a48",
   "metadata": {},
   "outputs": [
    {
     "data": {
      "text/plain": [
       "{'users': [{'id': 1, 'liked_movies': ['The Matrix', 'Inception', 'Avengers']},\n",
       "  {'id': 2, 'liked_movies': ['The Matrix', 'Titanic', 'Avatar']},\n",
       "  {'id': 3, 'liked_movies': ['Inception', 'Avatar', 'Interstellar']},\n",
       "  {'id': 4, 'liked_movies': ['Avengers', 'Iron Man', 'Thor']},\n",
       "  {'id': 5, 'liked_movies': ['Titanic', 'Avengers', 'The Dark Knight']},\n",
       "  {'id': 6, 'liked_movies': ['The Matrix', 'Interstellar', 'Avatar']},\n",
       "  {'id': 7, 'liked_movies': ['The Dark Knight', 'Titanic', 'Avengers']},\n",
       "  {'id': 8, 'liked_movies': ['Inception', 'Iron Man', 'The Matrix']},\n",
       "  {'id': 9, 'liked_movies': ['Interstellar', 'Titanic', 'Avatar']},\n",
       "  {'id': 10, 'liked_movies': ['Avengers', 'Iron Man', 'Thor']}]}"
      ]
     },
     "execution_count": 79,
     "metadata": {},
     "output_type": "execute_result"
    }
   ],
   "source": [
    "data"
   ]
  },
  {
   "cell_type": "code",
   "execution_count": 80,
   "id": "2a8dab84-af67-4346-b621-1cb75e843e7f",
   "metadata": {},
   "outputs": [],
   "source": [
    "def movie_recommendation(userid,data):\n",
    "    suggestions = set() \n",
    "    liked_movies={}\n",
    "    for user in data['users']:\n",
    "        liked_movies[user['id']] = user['liked_movies']\n",
    "    if userid not in liked_movies:\n",
    "       return []\n",
    "    user_liked = set(liked_movies[userid])    \n",
    "    for other_id, movies in liked_movies.items():\n",
    "       if other_id == userid:\n",
    "        continue\n",
    "\n",
    "      \n",
    "       other_liked = set(movies)\n",
    "  \n",
    "       # Now, take the intersection\n",
    "       for movie in other_liked:\n",
    "         if movie not in user_liked:  \n",
    "           suggestions.add(movie)\n",
    "    return suggestions\n",
    "    \n",
    "        "
   ]
  },
  {
   "cell_type": "code",
   "execution_count": 81,
   "id": "3801f86c-dcc6-4629-b860-b9ad081ee317",
   "metadata": {
    "scrolled": true
   },
   "outputs": [],
   "source": [
    "user_id = 3  # Example: Finding recommendations for Amit\n",
    "movierecommendation = movie_recommendation(user_id, data)\n"
   ]
  },
  {
   "cell_type": "code",
   "execution_count": 82,
   "id": "a48fdd74-b5fe-46d6-90d6-372f0438c42c",
   "metadata": {},
   "outputs": [
    {
     "name": "stdout",
     "output_type": "stream",
     "text": [
      "{'Thor', 'Avengers', 'Titanic', 'Iron Man', 'The Dark Knight', 'The Matrix'}\n"
     ]
    }
   ],
   "source": [
    "print(movierecommendation)"
   ]
  },
  {
   "cell_type": "code",
   "execution_count": null,
   "id": "283f0e7a-e480-4bc5-8c93-850994c73d35",
   "metadata": {},
   "outputs": [],
   "source": []
  }
 ],
 "metadata": {
  "kernelspec": {
   "display_name": "Python 3 (ipykernel)",
   "language": "python",
   "name": "python3"
  },
  "language_info": {
   "codemirror_mode": {
    "name": "ipython",
    "version": 3
   },
   "file_extension": ".py",
   "mimetype": "text/x-python",
   "name": "python",
   "nbconvert_exporter": "python",
   "pygments_lexer": "ipython3",
   "version": "3.12.3"
  }
 },
 "nbformat": 4,
 "nbformat_minor": 5
}
